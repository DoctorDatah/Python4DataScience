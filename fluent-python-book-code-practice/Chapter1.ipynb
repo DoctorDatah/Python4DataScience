{
 "cells": [
  {
   "cell_type": "code",
   "execution_count": 76,
   "metadata": {},
   "outputs": [],
   "source": [
    "import collections\n",
    "\n",
    "Card = collections.namedtuple('card',['rank','suit'])\n",
    "\n",
    "# Deck is a set of Cards\n",
    "class FrenchDeck:\n",
    "    ranks = [str(n) for n in range(2,11)] + list('JQKA')\n",
    "    suits = 'spades diamonds clubs hearts'.split()\n",
    "\n",
    "    def __init__(self):\n",
    "        self._cards = [Card(rank,suit) for suit in self.suits for rank in self.ranks]\n",
    "        \n",
    "    def __len__(self):\n",
    "        return len(self._cards)\n",
    "    \n",
    "    def __getitem__(self, position):\n",
    "        return self._cards[position]"
   ]
  },
  {
   "cell_type": "code",
   "execution_count": 77,
   "metadata": {},
   "outputs": [
    {
     "data": {
      "text/plain": [
       "52"
      ]
     },
     "execution_count": 77,
     "metadata": {},
     "output_type": "execute_result"
    }
   ],
   "source": [
    "dimond_card = Card('7','Diamond')\n",
    "\n",
    "deck = FrenchDeck()\n",
    "len(deck)"
   ]
  },
  {
   "cell_type": "code",
   "execution_count": 78,
   "metadata": {},
   "outputs": [
    {
     "data": {
      "text/plain": [
       "card(rank='2', suit='spades')"
      ]
     },
     "execution_count": 78,
     "metadata": {},
     "output_type": "execute_result"
    }
   ],
   "source": [
    "deck[0]"
   ]
  },
  {
   "cell_type": "code",
   "execution_count": 79,
   "metadata": {},
   "outputs": [
    {
     "data": {
      "text/plain": [
       "card(rank='A', suit='hearts')"
      ]
     },
     "execution_count": 79,
     "metadata": {},
     "output_type": "execute_result"
    }
   ],
   "source": [
    "deck[-1]"
   ]
  },
  {
   "cell_type": "code",
   "execution_count": 80,
   "metadata": {},
   "outputs": [
    {
     "data": {
      "text/plain": [
       "card(rank='A', suit='clubs')"
      ]
     },
     "execution_count": 80,
     "metadata": {},
     "output_type": "execute_result"
    }
   ],
   "source": [
    "from random import choice\n",
    "choice(deck)"
   ]
  },
  {
   "cell_type": "code",
   "execution_count": 81,
   "metadata": {},
   "outputs": [
    {
     "data": {
      "text/plain": [
       "[card(rank='2', suit='spades'),\n",
       " card(rank='3', suit='spades'),\n",
       " card(rank='4', suit='spades')]"
      ]
     },
     "execution_count": 81,
     "metadata": {},
     "output_type": "execute_result"
    }
   ],
   "source": [
    "deck[:3]"
   ]
  },
  {
   "cell_type": "code",
   "execution_count": 82,
   "metadata": {},
   "outputs": [
    {
     "data": {
      "text/plain": [
       "[card(rank='2', suit='spades'),\n",
       " card(rank='2', suit='diamonds'),\n",
       " card(rank='2', suit='clubs'),\n",
       " card(rank='2', suit='hearts')]"
      ]
     },
     "execution_count": 82,
     "metadata": {},
     "output_type": "execute_result"
    }
   ],
   "source": [
    "deck[::13]"
   ]
  },
  {
   "cell_type": "code",
   "execution_count": 83,
   "metadata": {},
   "outputs": [
    {
     "name": "stdout",
     "output_type": "stream",
     "text": [
      "card(rank='2', suit='spades')\n",
      "card(rank='3', suit='spades')\n",
      "card(rank='4', suit='spades')\n",
      "card(rank='5', suit='spades')\n",
      "card(rank='6', suit='spades')\n",
      "card(rank='7', suit='spades')\n",
      "card(rank='8', suit='spades')\n",
      "card(rank='9', suit='spades')\n",
      "card(rank='10', suit='spades')\n",
      "card(rank='J', suit='spades')\n",
      "card(rank='Q', suit='spades')\n",
      "card(rank='K', suit='spades')\n",
      "card(rank='A', suit='spades')\n",
      "card(rank='2', suit='diamonds')\n",
      "card(rank='3', suit='diamonds')\n",
      "card(rank='4', suit='diamonds')\n",
      "card(rank='5', suit='diamonds')\n",
      "card(rank='6', suit='diamonds')\n",
      "card(rank='7', suit='diamonds')\n",
      "card(rank='8', suit='diamonds')\n",
      "card(rank='9', suit='diamonds')\n",
      "card(rank='10', suit='diamonds')\n",
      "card(rank='J', suit='diamonds')\n",
      "card(rank='Q', suit='diamonds')\n",
      "card(rank='K', suit='diamonds')\n",
      "card(rank='A', suit='diamonds')\n",
      "card(rank='2', suit='clubs')\n",
      "card(rank='3', suit='clubs')\n",
      "card(rank='4', suit='clubs')\n",
      "card(rank='5', suit='clubs')\n",
      "card(rank='6', suit='clubs')\n",
      "card(rank='7', suit='clubs')\n",
      "card(rank='8', suit='clubs')\n",
      "card(rank='9', suit='clubs')\n",
      "card(rank='10', suit='clubs')\n",
      "card(rank='J', suit='clubs')\n",
      "card(rank='Q', suit='clubs')\n",
      "card(rank='K', suit='clubs')\n",
      "card(rank='A', suit='clubs')\n",
      "card(rank='2', suit='hearts')\n",
      "card(rank='3', suit='hearts')\n",
      "card(rank='4', suit='hearts')\n",
      "card(rank='5', suit='hearts')\n",
      "card(rank='6', suit='hearts')\n",
      "card(rank='7', suit='hearts')\n",
      "card(rank='8', suit='hearts')\n",
      "card(rank='9', suit='hearts')\n",
      "card(rank='10', suit='hearts')\n",
      "card(rank='J', suit='hearts')\n",
      "card(rank='Q', suit='hearts')\n",
      "card(rank='K', suit='hearts')\n",
      "card(rank='A', suit='hearts')\n"
     ]
    }
   ],
   "source": [
    "for card in deck:\n",
    "    print(card)"
   ]
  },
  {
   "cell_type": "code",
   "execution_count": 84,
   "metadata": {},
   "outputs": [
    {
     "data": {
      "text/plain": [
       "True"
      ]
     },
     "execution_count": 84,
     "metadata": {},
     "output_type": "execute_result"
    }
   ],
   "source": [
    "Card('Q','hearts' ) in deck"
   ]
  },
  {
   "cell_type": "code",
   "execution_count": 85,
   "metadata": {},
   "outputs": [],
   "source": [
    "# Sorting\n",
    "suit_values = dict(spades=3, hearts=2, diamonds=1, clubs=0)\n",
    "\n",
    "def spades_high(card):\n",
    "    rank_value = FrenchDeck.ranks.index(card.rank)\n",
    "    return rank_value * len(suit_values) + suit_values[card.suit]"
   ]
  },
  {
   "cell_type": "code",
   "execution_count": 91,
   "metadata": {},
   "outputs": [
    {
     "data": {
      "text/plain": [
       "50"
      ]
     },
     "execution_count": 91,
     "metadata": {},
     "output_type": "execute_result"
    }
   ],
   "source": [
    "spades_high(card)"
   ]
  },
  {
   "cell_type": "markdown",
   "metadata": {},
   "source": [
    "Understaning Chunks"
   ]
  },
  {
   "cell_type": "code",
   "execution_count": 86,
   "metadata": {},
   "outputs": [],
   "source": [
    "ranks = [str(n) for n in range(2,11)] + list('JQKA')\n",
    "suits = 'spades diamonds clubs hearts'.split()\n",
    "\n",
    "# nested loop one liner \n",
    "cards = [Card(rank,suit) for suit in suits for rank in ranks]"
   ]
  },
  {
   "cell_type": "code",
   "execution_count": 87,
   "metadata": {},
   "outputs": [
    {
     "data": {
      "text/plain": [
       "[card(rank='2', suit='spades'),\n",
       " card(rank='3', suit='spades'),\n",
       " card(rank='4', suit='spades'),\n",
       " card(rank='5', suit='spades'),\n",
       " card(rank='6', suit='spades'),\n",
       " card(rank='7', suit='spades'),\n",
       " card(rank='8', suit='spades'),\n",
       " card(rank='9', suit='spades'),\n",
       " card(rank='10', suit='spades'),\n",
       " card(rank='J', suit='spades'),\n",
       " card(rank='Q', suit='spades'),\n",
       " card(rank='K', suit='spades'),\n",
       " card(rank='A', suit='spades'),\n",
       " card(rank='2', suit='diamonds'),\n",
       " card(rank='3', suit='diamonds'),\n",
       " card(rank='4', suit='diamonds'),\n",
       " card(rank='5', suit='diamonds'),\n",
       " card(rank='6', suit='diamonds'),\n",
       " card(rank='7', suit='diamonds'),\n",
       " card(rank='8', suit='diamonds'),\n",
       " card(rank='9', suit='diamonds'),\n",
       " card(rank='10', suit='diamonds'),\n",
       " card(rank='J', suit='diamonds'),\n",
       " card(rank='Q', suit='diamonds'),\n",
       " card(rank='K', suit='diamonds'),\n",
       " card(rank='A', suit='diamonds'),\n",
       " card(rank='2', suit='clubs'),\n",
       " card(rank='3', suit='clubs'),\n",
       " card(rank='4', suit='clubs'),\n",
       " card(rank='5', suit='clubs'),\n",
       " card(rank='6', suit='clubs'),\n",
       " card(rank='7', suit='clubs'),\n",
       " card(rank='8', suit='clubs'),\n",
       " card(rank='9', suit='clubs'),\n",
       " card(rank='10', suit='clubs'),\n",
       " card(rank='J', suit='clubs'),\n",
       " card(rank='Q', suit='clubs'),\n",
       " card(rank='K', suit='clubs'),\n",
       " card(rank='A', suit='clubs'),\n",
       " card(rank='2', suit='hearts'),\n",
       " card(rank='3', suit='hearts'),\n",
       " card(rank='4', suit='hearts'),\n",
       " card(rank='5', suit='hearts'),\n",
       " card(rank='6', suit='hearts'),\n",
       " card(rank='7', suit='hearts'),\n",
       " card(rank='8', suit='hearts'),\n",
       " card(rank='9', suit='hearts'),\n",
       " card(rank='10', suit='hearts'),\n",
       " card(rank='J', suit='hearts'),\n",
       " card(rank='Q', suit='hearts'),\n",
       " card(rank='K', suit='hearts'),\n",
       " card(rank='A', suit='hearts')]"
      ]
     },
     "execution_count": 87,
     "metadata": {},
     "output_type": "execute_result"
    }
   ],
   "source": [
    "# nested loop traditional \n",
    "cards = []\n",
    "for suit in suits:\n",
    "    for rank in ranks:\n",
    "        cards += [Card(rank,suit)]\n",
    "cards"
   ]
  },
  {
   "cell_type": "code",
   "execution_count": null,
   "metadata": {},
   "outputs": [],
   "source": []
  }
 ],
 "metadata": {
  "kernelspec": {
   "display_name": "Python 3",
   "language": "python",
   "name": "python3"
  },
  "language_info": {
   "codemirror_mode": {
    "name": "ipython",
    "version": 3
   },
   "file_extension": ".py",
   "mimetype": "text/x-python",
   "name": "python",
   "nbconvert_exporter": "python",
   "pygments_lexer": "ipython3",
   "version": "3.7.4"
  }
 },
 "nbformat": 4,
 "nbformat_minor": 4
}
