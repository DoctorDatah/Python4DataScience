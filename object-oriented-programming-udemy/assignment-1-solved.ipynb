{
 "cells": [
  {
   "cell_type": "code",
   "execution_count": 17,
   "metadata": {},
   "outputs": [],
   "source": [
    "class MaxSizeList():\n",
    "    def __init__(self,size):\n",
    "        self.lst = []\n",
    "        self.size = size\n",
    "        \n",
    "    def push(self,val):\n",
    "        index = 0\n",
    "        if(len(self.lst) == self.size):\n",
    "            del self.lst[index]\n",
    "        self.lst.append(val)\n",
    "    \n",
    "    def get_list(self):\n",
    "        return self.lst\n",
    "        \n",
    "            "
   ]
  },
  {
   "cell_type": "code",
   "execution_count": 18,
   "metadata": {},
   "outputs": [
    {
     "data": {
      "text/plain": [
       "['name', 'is', 'malik']"
      ]
     },
     "execution_count": 18,
     "metadata": {},
     "output_type": "execute_result"
    }
   ],
   "source": [
    "a_lst = MaxSizeList(3)\n",
    "a_lst.push(\"My\")\n",
    "a_lst.push(\"name\")\n",
    "a_lst.push(\"is\")\n",
    "a_lst.push(\"malik\")\n",
    "\n",
    "a_lst.get_list()"
   ]
  },
  {
   "cell_type": "code",
   "execution_count": null,
   "metadata": {},
   "outputs": [],
   "source": []
  }
 ],
 "metadata": {
  "kernelspec": {
   "display_name": "Python 3",
   "language": "python",
   "name": "python3"
  },
  "language_info": {
   "codemirror_mode": {
    "name": "ipython",
    "version": 3
   },
   "file_extension": ".py",
   "mimetype": "text/x-python",
   "name": "python",
   "nbconvert_exporter": "python",
   "pygments_lexer": "ipython3",
   "version": "3.7.4"
  }
 },
 "nbformat": 4,
 "nbformat_minor": 4
}
