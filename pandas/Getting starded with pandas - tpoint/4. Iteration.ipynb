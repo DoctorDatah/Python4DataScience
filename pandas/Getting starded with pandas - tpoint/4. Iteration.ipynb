{
 "cells": [
  {
   "cell_type": "markdown",
   "metadata": {},
   "source": [
    "# Iteration\n",
    "\n",
    "The behavior of basic iteration over Pandas objects depends on the type. When iterating over a Series, it is regarded as array-like, and basic iteration produces the values. Other data structures, like DataFrame and Panel, follow the dict-like convention of iterating over the keys of the objects.\n",
    "\n",
    "- In short, basic iteration (for i in object) produces\n",
    "- Series − values\n",
    "- DataFrame − column labels\n",
    "- Panel − item labels"
   ]
  },
  {
   "cell_type": "markdown",
   "metadata": {},
   "source": [
    "## Iterating a DataFrame\n",
    "Iterating a DataFrame gives column names. \n",
    "Let us consider the following example to understand the same."
   ]
  },
  {
   "cell_type": "code",
   "execution_count": 2,
   "metadata": {},
   "outputs": [
    {
     "data": {
      "text/html": [
       "<div>\n",
       "<style scoped>\n",
       "    .dataframe tbody tr th:only-of-type {\n",
       "        vertical-align: middle;\n",
       "    }\n",
       "\n",
       "    .dataframe tbody tr th {\n",
       "        vertical-align: top;\n",
       "    }\n",
       "\n",
       "    .dataframe thead th {\n",
       "        text-align: right;\n",
       "    }\n",
       "</style>\n",
       "<table border=\"1\" class=\"dataframe\">\n",
       "  <thead>\n",
       "    <tr style=\"text-align: right;\">\n",
       "      <th></th>\n",
       "      <th>A</th>\n",
       "      <th>x</th>\n",
       "      <th>y</th>\n",
       "      <th>C</th>\n",
       "      <th>D</th>\n",
       "    </tr>\n",
       "  </thead>\n",
       "  <tbody>\n",
       "    <tr>\n",
       "      <td>0</td>\n",
       "      <td>2016-01-01</td>\n",
       "      <td>0.0</td>\n",
       "      <td>0.642738</td>\n",
       "      <td>Low</td>\n",
       "      <td>93.215327</td>\n",
       "    </tr>\n",
       "    <tr>\n",
       "      <td>1</td>\n",
       "      <td>2016-01-02</td>\n",
       "      <td>1.0</td>\n",
       "      <td>0.174944</td>\n",
       "      <td>Medium</td>\n",
       "      <td>101.398828</td>\n",
       "    </tr>\n",
       "    <tr>\n",
       "      <td>2</td>\n",
       "      <td>2016-01-03</td>\n",
       "      <td>2.0</td>\n",
       "      <td>0.479303</td>\n",
       "      <td>High</td>\n",
       "      <td>100.732741</td>\n",
       "    </tr>\n",
       "    <tr>\n",
       "      <td>3</td>\n",
       "      <td>2016-01-04</td>\n",
       "      <td>3.0</td>\n",
       "      <td>0.941700</td>\n",
       "      <td>High</td>\n",
       "      <td>97.458413</td>\n",
       "    </tr>\n",
       "    <tr>\n",
       "      <td>4</td>\n",
       "      <td>2016-01-05</td>\n",
       "      <td>4.0</td>\n",
       "      <td>0.469969</td>\n",
       "      <td>Medium</td>\n",
       "      <td>107.346749</td>\n",
       "    </tr>\n",
       "  </tbody>\n",
       "</table>\n",
       "</div>"
      ],
      "text/plain": [
       "           A    x         y       C           D\n",
       "0 2016-01-01  0.0  0.642738     Low   93.215327\n",
       "1 2016-01-02  1.0  0.174944  Medium  101.398828\n",
       "2 2016-01-03  2.0  0.479303    High  100.732741\n",
       "3 2016-01-04  3.0  0.941700    High   97.458413\n",
       "4 2016-01-05  4.0  0.469969  Medium  107.346749"
      ]
     },
     "execution_count": 2,
     "metadata": {},
     "output_type": "execute_result"
    }
   ],
   "source": [
    "import pandas as pd\n",
    "import numpy as np\n",
    " \n",
    "N=20\n",
    "df = pd.DataFrame({\n",
    "   'A': pd.date_range(start='2016-01-01',periods=N,freq='D'),\n",
    "   'x': np.linspace(0,stop=N-1,num=N),\n",
    "   'y': np.random.rand(N),\n",
    "   'C': np.random.choice(['Low','Medium','High'],N).tolist(),\n",
    "   'D': np.random.normal(100, 10, size=(N)).tolist()\n",
    "   })\n",
    "\n",
    "df.head()"
   ]
  },
  {
   "cell_type": "code",
   "execution_count": 7,
   "metadata": {},
   "outputs": [
    {
     "name": "stdout",
     "output_type": "stream",
     "text": [
      "A\n",
      "x\n",
      "y\n",
      "C\n",
      "D\n"
     ]
    }
   ],
   "source": [
    "for col in df:\n",
    "    print(col)\n",
    "    \n",
    "# DF iterates through the column names"
   ]
  },
  {
   "cell_type": "markdown",
   "metadata": {},
   "source": [
    "# Ways methods to iterate through DF\n",
    "To iterate over the rows of the DataFrame, we can use the following functions:\n",
    "\n",
    "- iteritems() − to iterate over the (key,value) pairs\n",
    "- iterrows() − iterate over the rows as (index,series) pairs\n",
    "- itertuples() − iterate over the rows as namedtuples"
   ]
  },
  {
   "cell_type": "markdown",
   "metadata": {},
   "source": [
    "# 1. iteritems() \n",
    "Iterates over each column as key, value pair with label as key and column value as a Series object."
   ]
  },
  {
   "cell_type": "code",
   "execution_count": 9,
   "metadata": {},
   "outputs": [
    {
     "data": {
      "text/html": [
       "<div>\n",
       "<style scoped>\n",
       "    .dataframe tbody tr th:only-of-type {\n",
       "        vertical-align: middle;\n",
       "    }\n",
       "\n",
       "    .dataframe tbody tr th {\n",
       "        vertical-align: top;\n",
       "    }\n",
       "\n",
       "    .dataframe thead th {\n",
       "        text-align: right;\n",
       "    }\n",
       "</style>\n",
       "<table border=\"1\" class=\"dataframe\">\n",
       "  <thead>\n",
       "    <tr style=\"text-align: right;\">\n",
       "      <th></th>\n",
       "      <th>col1</th>\n",
       "      <th>col2</th>\n",
       "      <th>col3</th>\n",
       "    </tr>\n",
       "  </thead>\n",
       "  <tbody>\n",
       "    <tr>\n",
       "      <td>0</td>\n",
       "      <td>0.671930</td>\n",
       "      <td>-0.285315</td>\n",
       "      <td>-1.131972</td>\n",
       "    </tr>\n",
       "    <tr>\n",
       "      <td>1</td>\n",
       "      <td>0.929258</td>\n",
       "      <td>0.361816</td>\n",
       "      <td>-1.079748</td>\n",
       "    </tr>\n",
       "    <tr>\n",
       "      <td>2</td>\n",
       "      <td>-0.876544</td>\n",
       "      <td>-1.169859</td>\n",
       "      <td>0.083812</td>\n",
       "    </tr>\n",
       "    <tr>\n",
       "      <td>3</td>\n",
       "      <td>1.332908</td>\n",
       "      <td>-0.509854</td>\n",
       "      <td>-0.900430</td>\n",
       "    </tr>\n",
       "  </tbody>\n",
       "</table>\n",
       "</div>"
      ],
      "text/plain": [
       "       col1      col2      col3\n",
       "0  0.671930 -0.285315 -1.131972\n",
       "1  0.929258  0.361816 -1.079748\n",
       "2 -0.876544 -1.169859  0.083812\n",
       "3  1.332908 -0.509854 -0.900430"
      ]
     },
     "execution_count": 9,
     "metadata": {},
     "output_type": "execute_result"
    }
   ],
   "source": [
    "df = pd.DataFrame(np.random.randn(4,3),columns=['col1','col2','col3'])\n",
    "df"
   ]
  },
  {
   "cell_type": "code",
   "execution_count": 11,
   "metadata": {},
   "outputs": [
    {
     "name": "stdout",
     "output_type": "stream",
     "text": [
      "col1 0    0.671930\n",
      "1    0.929258\n",
      "2   -0.876544\n",
      "3    1.332908\n",
      "Name: col1, dtype: float64\n",
      "col2 0   -0.285315\n",
      "1    0.361816\n",
      "2   -1.169859\n",
      "3   -0.509854\n",
      "Name: col2, dtype: float64\n",
      "col3 0   -1.131972\n",
      "1   -1.079748\n",
      "2    0.083812\n",
      "3   -0.900430\n",
      "Name: col3, dtype: float64\n"
     ]
    }
   ],
   "source": [
    "for col,values in df.iteritems():\n",
    "    print(col,values)\n",
    "\n",
    "# TEMPLATE\n",
    "#for key,value in df.iteritems():\n",
    "#    print(key,values)"
   ]
  },
  {
   "cell_type": "markdown",
   "metadata": {},
   "source": [
    "Observe, each column is iterated separately as a key-value pair in a Series."
   ]
  },
  {
   "cell_type": "markdown",
   "metadata": {},
   "source": [
    "# iterrows()\n",
    "iterrows() returns the iterator yielding each index value along with a series containing the data in each row."
   ]
  },
  {
   "cell_type": "code",
   "execution_count": 12,
   "metadata": {},
   "outputs": [
    {
     "data": {
      "text/html": [
       "<div>\n",
       "<style scoped>\n",
       "    .dataframe tbody tr th:only-of-type {\n",
       "        vertical-align: middle;\n",
       "    }\n",
       "\n",
       "    .dataframe tbody tr th {\n",
       "        vertical-align: top;\n",
       "    }\n",
       "\n",
       "    .dataframe thead th {\n",
       "        text-align: right;\n",
       "    }\n",
       "</style>\n",
       "<table border=\"1\" class=\"dataframe\">\n",
       "  <thead>\n",
       "    <tr style=\"text-align: right;\">\n",
       "      <th></th>\n",
       "      <th>col1</th>\n",
       "      <th>col2</th>\n",
       "      <th>col3</th>\n",
       "    </tr>\n",
       "  </thead>\n",
       "  <tbody>\n",
       "    <tr>\n",
       "      <td>0</td>\n",
       "      <td>1.251304</td>\n",
       "      <td>0.788113</td>\n",
       "      <td>0.658501</td>\n",
       "    </tr>\n",
       "    <tr>\n",
       "      <td>1</td>\n",
       "      <td>-1.405875</td>\n",
       "      <td>-1.319791</td>\n",
       "      <td>-0.880908</td>\n",
       "    </tr>\n",
       "    <tr>\n",
       "      <td>2</td>\n",
       "      <td>0.470828</td>\n",
       "      <td>-1.093917</td>\n",
       "      <td>-0.855566</td>\n",
       "    </tr>\n",
       "    <tr>\n",
       "      <td>3</td>\n",
       "      <td>-0.306974</td>\n",
       "      <td>-0.716046</td>\n",
       "      <td>0.206188</td>\n",
       "    </tr>\n",
       "  </tbody>\n",
       "</table>\n",
       "</div>"
      ],
      "text/plain": [
       "       col1      col2      col3\n",
       "0  1.251304  0.788113  0.658501\n",
       "1 -1.405875 -1.319791 -0.880908\n",
       "2  0.470828 -1.093917 -0.855566\n",
       "3 -0.306974 -0.716046  0.206188"
      ]
     },
     "execution_count": 12,
     "metadata": {},
     "output_type": "execute_result"
    }
   ],
   "source": [
    "df = pd.DataFrame(np.random.randn(4,3),columns = ['col1','col2','col3'])\n",
    "df"
   ]
  },
  {
   "cell_type": "code",
   "execution_count": 13,
   "metadata": {},
   "outputs": [
    {
     "name": "stdout",
     "output_type": "stream",
     "text": [
      "0 col1    1.251304\n",
      "col2    0.788113\n",
      "col3    0.658501\n",
      "Name: 0, dtype: float64\n",
      "1 col1   -1.405875\n",
      "col2   -1.319791\n",
      "col3   -0.880908\n",
      "Name: 1, dtype: float64\n",
      "2 col1    0.470828\n",
      "col2   -1.093917\n",
      "col3   -0.855566\n",
      "Name: 2, dtype: float64\n",
      "3 col1   -0.306974\n",
      "col2   -0.716046\n",
      "col3    0.206188\n",
      "Name: 3, dtype: float64\n"
     ]
    }
   ],
   "source": [
    "for row_index,values in df.iterrows():\n",
    "    print(row_index,values)"
   ]
  },
  {
   "cell_type": "markdown",
   "metadata": {},
   "source": [
    "**Note** Because iterrows() iterate over the rows, it doesn't preserve the data type across the row. 0,1,2 are the row indices and col1,col2,col3 are column indices.\n"
   ]
  },
  {
   "cell_type": "markdown",
   "metadata": {},
   "source": [
    "# 3. itertuples()\n",
    "itertuples() method will return an iterator giving a named tuple for each row in the DataFrame. The first element of the tuple will be the row’s index value, while the remaining values are the row values."
   ]
  },
  {
   "cell_type": "code",
   "execution_count": 15,
   "metadata": {},
   "outputs": [
    {
     "name": "stdout",
     "output_type": "stream",
     "text": [
      "Pandas(Index=0, col1=1.251304499686695, col2=0.7881133100243172, col3=0.6585012373382707)\n",
      "Pandas(Index=1, col1=-1.405875315951901, col2=-1.3197907550357248, col3=-0.8809080556903238)\n",
      "Pandas(Index=2, col1=0.4708277692341507, col2=-1.0939168115852627, col3=-0.8555660760366817)\n",
      "Pandas(Index=3, col1=-0.30697415101770115, col2=-0.7160457805585031, col3=0.20618770478421672)\n"
     ]
    }
   ],
   "source": [
    "for row in df.itertuples():\n",
    "    print(row)"
   ]
  },
  {
   "cell_type": "markdown",
   "metadata": {},
   "source": [
    "**Note** − Do not try to modify any object while iterating. Iterating is meant for reading and the iterator returns a copy of the original object (a view), thus the changes will not reflect on the original object."
   ]
  },
  {
   "cell_type": "markdown",
   "metadata": {},
   "source": [
    "### Iterating and changing values"
   ]
  },
  {
   "cell_type": "code",
   "execution_count": 24,
   "metadata": {},
   "outputs": [
    {
     "data": {
      "text/html": [
       "<div>\n",
       "<style scoped>\n",
       "    .dataframe tbody tr th:only-of-type {\n",
       "        vertical-align: middle;\n",
       "    }\n",
       "\n",
       "    .dataframe tbody tr th {\n",
       "        vertical-align: top;\n",
       "    }\n",
       "\n",
       "    .dataframe thead th {\n",
       "        text-align: right;\n",
       "    }\n",
       "</style>\n",
       "<table border=\"1\" class=\"dataframe\">\n",
       "  <thead>\n",
       "    <tr style=\"text-align: right;\">\n",
       "      <th></th>\n",
       "      <th>col1</th>\n",
       "      <th>col2</th>\n",
       "      <th>col3</th>\n",
       "    </tr>\n",
       "  </thead>\n",
       "  <tbody>\n",
       "    <tr>\n",
       "      <td>0</td>\n",
       "      <td>1.251304</td>\n",
       "      <td>0.788113</td>\n",
       "      <td>0.658501</td>\n",
       "    </tr>\n",
       "    <tr>\n",
       "      <td>1</td>\n",
       "      <td>-1.405875</td>\n",
       "      <td>-1.319791</td>\n",
       "      <td>-0.880908</td>\n",
       "    </tr>\n",
       "    <tr>\n",
       "      <td>2</td>\n",
       "      <td>0.470828</td>\n",
       "      <td>-1.093917</td>\n",
       "      <td>-0.855566</td>\n",
       "    </tr>\n",
       "    <tr>\n",
       "      <td>3</td>\n",
       "      <td>-0.306974</td>\n",
       "      <td>-0.716046</td>\n",
       "      <td>0.206188</td>\n",
       "    </tr>\n",
       "  </tbody>\n",
       "</table>\n",
       "</div>"
      ],
      "text/plain": [
       "       col1      col2      col3\n",
       "0  1.251304  0.788113  0.658501\n",
       "1 -1.405875 -1.319791 -0.880908\n",
       "2  0.470828 -1.093917 -0.855566\n",
       "3 -0.306974 -0.716046  0.206188"
      ]
     },
     "execution_count": 24,
     "metadata": {},
     "output_type": "execute_result"
    }
   ],
   "source": [
    "df"
   ]
  },
  {
   "cell_type": "code",
   "execution_count": 31,
   "metadata": {},
   "outputs": [
    {
     "name": "stdout",
     "output_type": "stream",
     "text": [
      "0 col1    10.000000\n",
      "col2     0.788113\n",
      "col3     0.658501\n",
      "Name: 0, dtype: float64\n",
      "1 col1    10.000000\n",
      "col2    -1.319791\n",
      "col3    -0.880908\n",
      "Name: 1, dtype: float64\n",
      "2 col1    10.000000\n",
      "col2    -1.093917\n",
      "col3    -0.855566\n",
      "Name: 2, dtype: float64\n",
      "3 col1    10.000000\n",
      "col2    -0.716046\n",
      "col3     0.206188\n",
      "Name: 3, dtype: float64\n"
     ]
    }
   ],
   "source": [
    "for index,row_values in df.iterrows():\n",
    "    row_values['col1'] = 10\n",
    "    print(index,row_values)"
   ]
  },
  {
   "cell_type": "markdown",
   "metadata": {},
   "source": [
    "End "
   ]
  }
 ],
 "metadata": {
  "kernelspec": {
   "display_name": "Python3.6",
   "language": "python",
   "name": "python3.6"
  },
  "language_info": {
   "codemirror_mode": {
    "name": "ipython",
    "version": 3
   },
   "file_extension": ".py",
   "mimetype": "text/x-python",
   "name": "python",
   "nbconvert_exporter": "python",
   "pygments_lexer": "ipython3",
   "version": "3.7.4"
  }
 },
 "nbformat": 4,
 "nbformat_minor": 2
}
